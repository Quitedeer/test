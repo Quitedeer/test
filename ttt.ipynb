{
 "cells": [
  {
   "cell_type": "markdown",
   "metadata": {},
   "source": [
    "<a href=\"https://colab.research.google.com/github/Quitedeer/test/blob/master/tes.ipynb\"><img align=\"left\" src=\"https://colab.research.google.com/assets/colab-badge.svg\" alt=\"Open in Colab\" title=\"Open and Execute in Google Colaboratory\" target=\"_blank\"></a>"
   ]
  },
  {
   "cell_type": "markdown",
   "metadata": {},
   "source": [
    "# Time datetime calendar"
   ]
  },
  {
   "cell_type": "markdown",
   "metadata": {},
   "source": [
    "![title](https://www.myata-event.com.ua/wp-content/uploads/2018/04/19719769.jpg-r_1280_720-f_jpg-q_x-xxyxx.jpg)"
   ]
  },
  {
   "cell_type": "markdown",
   "metadata": {},
   "source": [
    "Модуль **time** обеспечивает доступ к нескольким типам часов, каждый из которых предназначен для использования в различных целях.\n",
    "\n",
    "Работа методов из модуля **time** основывается на общепринятой системе описания времени. Отправной точкой для времени считается ***1 января 1970 года***, когда счетчик секунд имел полностью нулевое значение. С тех пор это число постоянно растет, позволяя людям работать с различными видами дат в максимально точном представлении."
   ]
  },
  {
   "cell_type": "markdown",
   "metadata": {},
   "source": [
    "Функция **time()** возвращает число секунд, прошедших с начала эпохи. Для операционных систем Unix 1 января 1970, 00:00:00 (UTC) — начало эпохи"
   ]
  },
  {
   "cell_type": "code",
   "execution_count": 12,
   "metadata": {},
   "outputs": [
    {
     "name": "stdout",
     "output_type": "stream",
     "text": [
      "1601033662.5855865\n"
     ]
    }
   ],
   "source": [
    "import time \n",
    "print(time.time())"
   ]
  },
  {
   "cell_type": "markdown",
   "metadata": {},
   "source": [
    "Функция **time.ctime()** принимает в качестве аргумента количество секунд, прошедших с начала эпохи, и возвращает строку, представляющую собой местное время."
   ]
  },
  {
   "cell_type": "code",
   "execution_count": 13,
   "metadata": {},
   "outputs": [
    {
     "name": "stdout",
     "output_type": "stream",
     "text": [
      "Fri Sep 25 16:35:00 2020\n"
     ]
    }
   ],
   "source": [
    "import time \n",
    "print(time.ctime())"
   ]
  },
  {
   "cell_type": "markdown",
   "metadata": {},
   "source": [
    "## Методы"
   ]
  },
  {
   "cell_type": "markdown",
   "metadata": {},
   "source": [
    "Метод **sleep()** останавливает ход выполнения программы ровно на s (данное количество) секунд."
   ]
  },
  {
   "cell_type": "code",
   "execution_count": 15,
   "metadata": {},
   "outputs": [
    {
     "name": "stdout",
     "output_type": "stream",
     "text": [
      "Program started...\n",
      "10 seconds passed.\n"
     ]
    }
   ],
   "source": [
    "import time \n",
    "pause = 10 \n",
    "print(\"Program started...\") \n",
    "time.sleep(pause) \n",
    "print(str(pause) + \" seconds passed.\")"
   ]
  },
  {
   "cell_type": "markdown",
   "metadata": {},
   "source": [
    "Класс **time.struct_time** \n",
    "\n",
    "Некоторые методы в модуле time принимают объект time.struct_time в качестве аргумента или возвращают его.  \n",
    "Вот пример объекта time. struct_time."
   ]
  },
  {
   "cell_type": "markdown",
   "metadata": {},
   "source": [
    "![title](https://qph.fs.quoracdn.net/main-qimg-c80cd3fb9b97e62c818af1435184bbe7)"
   ]
  },
  {
   "cell_type": "markdown",
   "metadata": {},
   "source": [
    "К значениям объекта **time.struct_time** доступ можно получить как с помощью индексов, так и через атрибуты.\n",
    "\n",
    "\n",
    "Метод **localtime()** принимает в качестве аргумента количество секунд, прошедших с начала эпохи, и возвращает **stuct_time** в локальном времени."
   ]
  },
  {
   "cell_type": "code",
   "execution_count": 17,
   "metadata": {},
   "outputs": [
    {
     "name": "stdout",
     "output_type": "stream",
     "text": [
      "результат: time.struct_time(tm_year=2019, tm_mon=12, tm_mday=7, tm_hour=17, tm_min=30, tm_sec=30, tm_wday=5, tm_yday=341, tm_isdst=0)\n",
      "year: 2019\n",
      "tm_hour: 17\n"
     ]
    }
   ],
   "source": [
    "import time \n",
    "result = time.localtime(1575721830) \n",
    "print(\"результат:\", result) \n",
    "print(\"year:\", result.tm_year) \n",
    "print(\"tm_hour:\", result.tm_hour)"
   ]
  },
  {
   "cell_type": "markdown",
   "metadata": {},
   "source": [
    "Если **localtime()** передан аргумент None, то вернется значение из **time().**\n",
    "\n",
    "Метод **gmtime()** принимает в качестве аргумента количество секунд, прошедших с начала эпохи и возвращает struct_time в UTC."
   ]
  },
  {
   "cell_type": "code",
   "execution_count": 18,
   "metadata": {},
   "outputs": [
    {
     "name": "stdout",
     "output_type": "stream",
     "text": [
      "результат: time.struct_time(tm_year=2019, tm_mon=12, tm_mday=7, tm_hour=12, tm_min=30, tm_sec=30, tm_wday=5, tm_yday=341, tm_isdst=0)\n",
      "year: 2019\n",
      "tm_hour: 12\n"
     ]
    }
   ],
   "source": [
    "import time \n",
    "result = time.gmtime(1575721830) \n",
    "print(\"результат:\", result) \n",
    "print(\"year:\", result.tm_year) \n",
    "print(\"tm_hour:\", result.tm_hour)"
   ]
  },
  {
   "cell_type": "markdown",
   "metadata": {},
   "source": [
    "  \n",
    "\n",
    "Метод **mktime()** принимает struct_time в качестве аргумента и возвращает количество секунд, прошедших с начала эпохи, в местном времени. Это функция, обратная localtime()."
   ]
  },
  {
   "cell_type": "code",
   "execution_count": 19,
   "metadata": {},
   "outputs": [
    {
     "name": "stdout",
     "output_type": "stream",
     "text": [
      "Местное время: 1575711030.0\n"
     ]
    }
   ],
   "source": [
    "import time \n",
    "t = (2019, 12, 7, 14, 30, 30, 5, 341, 0) \n",
    "local_time = time.mktime(t) \n",
    "print(\"Местное время:\", local_time)"
   ]
  },
  {
   "cell_type": "markdown",
   "metadata": {},
   "source": [
    "Следующий пример показывает, как связаны **mktime() и localtime().**"
   ]
  },
  {
   "cell_type": "code",
   "execution_count": 20,
   "metadata": {},
   "outputs": [
    {
     "name": "stdout",
     "output_type": "stream",
     "text": [
      "t1:  time.struct_time(tm_year=2019, tm_mon=12, tm_mday=7, tm_hour=17, tm_min=30, tm_sec=30, tm_wday=5, tm_yday=341, tm_isdst=0)\n",
      "\n",
      "s: 1575721830\n"
     ]
    }
   ],
   "source": [
    "import time \n",
    "seconds = 1575721830 # возвращает struct_time \n",
    "t = time.localtime(seconds) \n",
    "print(\"t1: \", t) # возвращает секунды из struct_time \n",
    "s = time.mktime(t) \n",
    "print(\"\\ns:\", seconds)"
   ]
  },
  {
   "cell_type": "markdown",
   "metadata": {},
   "source": [
    "Метод **asctime()** принимает struct_time в качестве аргумента и возвращает строку, представляющую собой дату."
   ]
  },
  {
   "cell_type": "code",
   "execution_count": 21,
   "metadata": {},
   "outputs": [
    {
     "name": "stdout",
     "output_type": "stream",
     "text": [
      "Результат: Sat Dec  7 14:30:30 2019\n"
     ]
    }
   ],
   "source": [
    "import time \n",
    "t = (2019, 12, 7, 14, 30, 30, 5, 341, 0) \n",
    "result = time.asctime(t) \n",
    "print(\"Результат:\", result)"
   ]
  },
  {
   "cell_type": "markdown",
   "metadata": {},
   "source": [
    "Метод **strftime** принимает stuct_time в качестве аргумента и возвращает строку с датой в зависимости от использованного формата."
   ]
  },
  {
   "cell_type": "code",
   "execution_count": 22,
   "metadata": {},
   "outputs": [
    {
     "name": "stdout",
     "output_type": "stream",
     "text": [
      "09/25/2020, 17:16:08\n"
     ]
    }
   ],
   "source": [
    "import time \n",
    "named_tuple = time.localtime() # получить struct_time \n",
    "time_string = time.strftime(\"%m/%d/%Y, %H:%M:%S\", named_tuple) \n",
    "print(time_string)"
   ]
  },
  {
   "cell_type": "markdown",
   "metadata": {},
   "source": [
    "Здесь %Y, %m, %d, %H и другие — элементы форматирования.\n",
    "\n",
    "· %Y — год [0001,…, 2019, 2020,…, 9999]\n",
    "\n",
    "· %m — месяц [01, 02, …, 11, 12]\n",
    "\n",
    "· %d — день [01, 02, …, 30, 31]\n",
    "\n",
    "· %H — час [00, 01, …, 22, 23\n",
    "\n",
    "· %M — минута [00, 01, …, 58, 59]\n",
    "\n",
    "· %S — секунда [00, 01, …, 58, 61]"
   ]
  },
  {
   "cell_type": "markdown",
   "metadata": {},
   "source": [
    "Метод **strptime()** делает разбор строки python, в которой упоминается время и возвращает struct_time."
   ]
  },
  {
   "cell_type": "code",
   "execution_count": 23,
   "metadata": {},
   "outputs": [
    {
     "name": "stdout",
     "output_type": "stream",
     "text": [
      "time.struct_time(tm_year=2019, tm_mon=6, tm_mday=15, tm_hour=0, tm_min=0, tm_sec=0, tm_wday=5, tm_yday=166, tm_isdst=-1)\n"
     ]
    }
   ],
   "source": [
    "import time \n",
    "time_string = \"15 June, 2019\" \n",
    "result = time.strptime(time_string, \"%d %B, %Y\") \n",
    "print(result)"
   ]
  },
  {
   "cell_type": "markdown",
   "metadata": {},
   "source": [
    "## Время выполнения программы"
   ]
  },
  {
   "cell_type": "markdown",
   "metadata": {},
   "source": [
    "Метод **monotonic()** точно представляет измеряемое количество времени, вне зависимости от работы ОС и текущей платформы."
   ]
  },
  {
   "cell_type": "code",
   "execution_count": 26,
   "metadata": {},
   "outputs": [
    {
     "name": "stdout",
     "output_type": "stream",
     "text": [
      "Program time: 15.062 seconds.\n"
     ]
    }
   ],
   "source": [
    "import time \n",
    "start = time.monotonic() \n",
    "time.sleep(15) \n",
    "result = time.monotonic() - start\n",
    "print(\"Program time: {:>.3f}\".format(result) + \" seconds.\")"
   ]
  },
  {
   "cell_type": "code",
   "execution_count": null,
   "metadata": {},
   "outputs": [],
   "source": []
  }
 ],
 "metadata": {
  "kernelspec": {
   "display_name": "Python 3",
   "language": "python",
   "name": "python3"
  },
  "language_info": {
   "codemirror_mode": {
    "name": "ipython",
    "version": 3
   },
   "file_extension": ".py",
   "mimetype": "text/x-python",
   "name": "python",
   "nbconvert_exporter": "python",
   "pygments_lexer": "ipython3",
   "version": "3.8.3"
  }
 },
 "nbformat": 4,
 "nbformat_minor": 4
}
